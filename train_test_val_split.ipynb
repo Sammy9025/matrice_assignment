{
 "cells": [
  {
   "cell_type": "code",
   "execution_count": 3,
   "id": "62eb56bb",
   "metadata": {},
   "outputs": [
    {
     "name": "stdout",
     "output_type": "stream",
     "text": [
      "Training images: (70%)  349\n",
      "Test images: (20%)  100\n",
      "Validation images (10%):  51\n",
      "When copying images is completed \"Done!\" will be printed (Note: Copying large dataset takes time)\n",
      "Done!\n"
     ]
    }
   ],
   "source": [
    "import os\n",
    "import random\n",
    "import shutil\n",
    "from sklearn.model_selection import train_test_split\n",
    "\n",
    "# Set the path to the annotated image folder\n",
    "folder_path = \"C:/Users/sammy/matrice_ai_assignment/deep_fashion_500\"\n",
    "\n",
    "# Set the destination folders for train, test, and validation\n",
    "train_folder = 'custom_dataset/train'\n",
    "test_folder = 'custom_dataset/test'\n",
    "validation_folder = 'custom_dataset/valid'\n",
    "\n",
    "# Set the test and validation sizes as percentages (e.g., 0.2 = 20%)\n",
    "test_size = 0.2\n",
    "validation_size = 0.1\n",
    "\n",
    "if os.path.isdir(train_folder) == False:\n",
    "    os.makedirs(train_folder)\n",
    "if os.path.isdir(test_folder) == False:\n",
    "    os.makedirs(test_folder)\n",
    "if os.path.isdir(validation_folder) == False:\n",
    "    os.makedirs(validation_folder)\n",
    "\n",
    "# Get the list of image files in the folder\n",
    "image_files = [f for f in os.listdir(folder_path) if f.lower().endswith(('.jpeg', '.jpg', '.png'))]\n",
    "\n",
    "# Split the image files into train, test, and validation sets\n",
    "train_files, test_validation_files = train_test_split(image_files, test_size=(test_size + validation_size), random_state=42)\n",
    "test_files, validation_files = train_test_split(test_validation_files, test_size=(validation_size / (test_size + validation_size)), random_state=42)\n",
    "print(\"Training images: (70%) \", len(train_files))\n",
    "print(\"Test images: (20%) \", len(test_files))\n",
    "print(\"Validation images (10%): \", len(validation_files))\n",
    "print('When copying images is completed \"Done!\" will be printed (Note: Copying large dataset takes time)')\n",
    "\n",
    "for file in train_files:\n",
    "    image_path = os.path.join(folder_path, file)\n",
    "    annotation_path = os.path.join(folder_path, file.split('.')[0] + '.txt')\n",
    "    shutil.copy(image_path, train_folder)\n",
    "    shutil.copy(annotation_path, train_folder)\n",
    "\n",
    "for file in test_files:\n",
    "    image_path = os.path.join(folder_path, file)\n",
    "    annotation_path = os.path.join(folder_path, file.split('.')[0] + '.txt')\n",
    "    shutil.copy(image_path, test_folder)\n",
    "    shutil.copy(annotation_path, test_folder)\n",
    "\n",
    "for file in validation_files:\n",
    "    image_path = os.path.join(folder_path, file)\n",
    "    annotation_path = os.path.join(folder_path, file.split('.')[0] + '.txt')\n",
    "    shutil.copy(image_path, validation_folder)\n",
    "    shutil.copy(annotation_path, validation_folder)\n",
    "print(\"Done!\")"
   ]
  }
 ],
 "metadata": {
  "kernelspec": {
   "display_name": "Python 3 (ipykernel)",
   "language": "python",
   "name": "python3"
  },
  "language_info": {
   "codemirror_mode": {
    "name": "ipython",
    "version": 3
   },
   "file_extension": ".py",
   "mimetype": "text/x-python",
   "name": "python",
   "nbconvert_exporter": "python",
   "pygments_lexer": "ipython3",
   "version": "3.10.9"
  }
 },
 "nbformat": 4,
 "nbformat_minor": 5
}

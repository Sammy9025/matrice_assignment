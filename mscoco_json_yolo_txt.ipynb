{
 "cells": [
  {
   "cell_type": "code",
   "execution_count": null,
   "id": "2eff66e9",
   "metadata": {},
   "outputs": [],
   "source": [
    "import os\n",
    "import json\n",
    "\n",
    "def mscoco_to_yolo(json_file_path, output_folder):\n",
    "    # Load JSON file\n",
    "    with open(json_file_path, 'r') as f:\n",
    "        data = json.load(f)\n",
    "        \n",
    "    os.makedirs(output_folder, exist_ok=True)\n",
    "    for annotation in data['annotations']:\n",
    "        image_id = annotation['image_id']\n",
    "        category_id = annotation['category_id']\n",
    "        bbox = annotation['bbox']\n",
    "        \n",
    "        if int(image_id) < len(data['images']):\n",
    "            image_width = data['images'][int(image_id)]['width']\n",
    "            image_height = data['images'][int(image_id)]['height']\n",
    "            \n",
    "\n",
    "            x_center = bbox[0] + bbox[2] / 2\n",
    "            y_center = bbox[1] + bbox[3] / 2\n",
    "            width = bbox[2]\n",
    "            height = bbox[3]\n",
    "            \n",
    "            x_center /= image_width\n",
    "            y_center /= image_height\n",
    "            width /= image_width\n",
    "            height /= image_height\n",
    "            \n",
    "            yolo_format = f\"{category_id} {x_center} {y_center} {width} {height}\\n\"\n",
    "            \n",
    "            output_file_path = os.path.join(output_folder, f\"{image_id}.txt\")\n",
    "            \n",
    "            with open(output_file_path, 'a') as f:\n",
    "                f.write(yolo_format)\n",
    "        else:\n",
    "            print(f\"Image ID {image_id} does not exist in data['images']\")\n",
    "\n",
    "json_file_path = \"C:/Users/sammy/Downloads/deep_fashion/deep_fashion/annotations/instances_val2024.json\"\n",
    "output_folder = \"C:/Users/sammy/Downloads/deep_fashion/deep_fashion/annotations/try\"\n",
    "mscoco_to_yolo(json_file_path, output_folder)"
   ]
  }
 ],
 "metadata": {
  "kernelspec": {
   "display_name": "Python 3 (ipykernel)",
   "language": "python",
   "name": "python3"
  },
  "language_info": {
   "codemirror_mode": {
    "name": "ipython",
    "version": 3
   },
   "file_extension": ".py",
   "mimetype": "text/x-python",
   "name": "python",
   "nbconvert_exporter": "python",
   "pygments_lexer": "ipython3",
   "version": "3.10.9"
  }
 },
 "nbformat": 4,
 "nbformat_minor": 5
}
